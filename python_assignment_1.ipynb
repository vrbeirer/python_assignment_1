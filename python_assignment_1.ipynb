{
 "cells": [
  {
   "cell_type": "code",
   "execution_count": 1,
   "id": "7f8f73e6-01be-40e6-9b11-c5196c7f2678",
   "metadata": {},
   "outputs": [
    {
     "name": "stdin",
     "output_type": "stream",
     "text": [
      "Enter the first number 10\n",
      "Enter the second number 3\n"
     ]
    },
    {
     "name": "stdout",
     "output_type": "stream",
     "text": [
      "Addition : 13\n",
      "Substraction : 7\n",
      "Multiplication : 30\n",
      "Division : 3.3333333333333335\n",
      "Modulus : 1\n",
      "Exponentiation : 1000\n",
      "Floor Division : 3\n"
     ]
    }
   ],
   "source": [
    "# part 1: operators\n",
    "\n",
    "# Exercise 1 \n",
    "# arithmetic operators\n",
    "\n",
    "\n",
    "a=int(input(\"Enter the first number\"))       #user inputs\n",
    "b=int(input(\"Enter the second number\"))      \n",
    "print(\"Addition :\",a+b)                      #operations\n",
    "print(\"Substraction :\",a-b)\n",
    "print(\"Multiplication :\",a*b)\n",
    "print(\"Division :\",a/b)\n",
    "print(\"Modulus :\",a%b)\n",
    "print(\"Exponentiation :\",a**b)\n",
    "print(\"Floor Division :\",a//b)\n"
   ]
  },
  {
   "cell_type": "code",
   "execution_count": 3,
   "id": "2dd6bd00-e76e-496f-a3bd-b43b1fab349b",
   "metadata": {},
   "outputs": [
    {
     "name": "stdin",
     "output_type": "stream",
     "text": [
      "enter the first number 7\n",
      "enter the first number 3\n"
     ]
    },
    {
     "name": "stdout",
     "output_type": "stream",
     "text": [
      "first number is greater than second number\n"
     ]
    }
   ],
   "source": [
    "\n",
    "\n",
    "#exercise 2\n",
    "# comparison operators\n",
    "\n",
    "\n",
    "x=int(input(\"enter the first number\"))       # user inputs\n",
    "y=int(input(\"enter the first number\"))\n",
    "if x>y:\n",
    "    print(\"first number is greater than second number\")    #if the first no. is greater than second\n",
    "elif x==y:\n",
    "    print(\"first number is equal to second number\")        # if they are equal\n",
    "else:\n",
    "    print(\"first number is less than or equal to the second number\")   # If the first number is less than or equal to the second."
   ]
  },
  {
   "cell_type": "code",
   "execution_count": 5,
   "id": "e02d47bf-0c56-4d34-bf2a-f313d41411f0",
   "metadata": {},
   "outputs": [
    {
     "name": "stdin",
     "output_type": "stream",
     "text": [
      "Enter the first boolean value (True/False):  true\n",
      "Enter the second boolean value (True/False):  true\n",
      "Enter the third boolean value (True/False):  false\n"
     ]
    },
    {
     "name": "stdout",
     "output_type": "stream",
     "text": [
      "Result of AND operation: (result_and)\n",
      "Result of OR operation: (result_or)\n",
      "Result of NOT operation on AND result:(result_not)\n"
     ]
    }
   ],
   "source": [
    "\n",
    "\n",
    "# exercise 3\n",
    "# logical operators\n",
    "\n",
    "\n",
    "bool1 = input(\"Enter the first boolean value (True/False): \")\n",
    "bool2 = input(\"Enter the second boolean value (True/False): \")\n",
    "bool3 = input(\"Enter the third boolean value (True/False): \")\n",
    "        \n",
    "     \n",
    "result_and = bool1 and bool2 and bool3        # Combine the boolean values\n",
    "result_or = bool1 or bool2 or bool3\n",
    "result_not = not (bool1 and bool2 and bool3)\n",
    "\n",
    "print(\"Result of AND operation: (result_and)\")\n",
    "print(\"Result of OR operation: (result_or)\")\n",
    "print(\"Result of NOT operation on AND result:(result_not)\")"
   ]
  },
  {
   "cell_type": "code",
   "execution_count": 11,
   "id": "1dcfd83a-e7c0-4a70-b646-1123c340946c",
   "metadata": {},
   "outputs": [
    {
     "name": "stdin",
     "output_type": "stream",
     "text": [
      "Enter a string:  pranavvvv\n"
     ]
    },
    {
     "name": "stdout",
     "output_type": "stream",
     "text": [
      "Length of the string: 9\n",
      "First character: p\n",
      "Last character: v\n",
      "Reversed string: vvvvanarp\n",
      "Uppercase: PRANAVVVV\n",
      "Lowercase: pranavvvv\n"
     ]
    }
   ],
   "source": [
    "\n",
    "\n",
    "# exercise 4\n",
    "# string manipulation\n",
    "\n",
    "# Function to analyze the string\n",
    "def analyze_string():\n",
    "    # Take string input from the user\n",
    "    user_string = input(\"Enter a string: \")\n",
    "\n",
    "    # Calculate the length of the string\n",
    "    length = len(user_string)\n",
    "\n",
    "    # Get the first and last character\n",
    "    first_character = user_string[0] if length > 0 else \"N/A\"\n",
    "    last_character = user_string[-1] if length > 0 else \"N/A\"\n",
    "\n",
    "    # Reverse the string\n",
    "    reversed_string = user_string[::-1]\n",
    "\n",
    "    # Convert the string to uppercase and lowercase\n",
    "    upper_case = user_string.upper()\n",
    "    lower_case = user_string.lower()\n",
    "\n",
    "    # Display the results\n",
    "    print(f\"Length of the string: {length}\")\n",
    "    print(f\"First character: {first_character}\")\n",
    "    print(f\"Last character: {last_character}\")\n",
    "    print(f\"Reversed string: {reversed_string}\")\n",
    "    print(f\"Uppercase: {upper_case}\")\n",
    "    print(f\"Lowercase: {lower_case}\")\n",
    "\n",
    "# Run the function\n",
    "analyze_string()\n"
   ]
  },
  {
   "cell_type": "code",
   "execution_count": 13,
   "id": "39d0e00b-05fb-43de-b328-7a2de9a9757d",
   "metadata": {},
   "outputs": [
    {
     "name": "stdin",
     "output_type": "stream",
     "text": [
      "What is your name ?  pranav patil\n",
      "What is your age ?  21\n"
     ]
    },
    {
     "name": "stdout",
     "output_type": "stream",
     "text": [
      "Hello pranav patil, you are 21 years old.\n"
     ]
    }
   ],
   "source": [
    "\n",
    "\n",
    "# part 2 - strings\n",
    "\n",
    "#exercise 5\n",
    "# string formatting\n",
    "\n",
    "\n",
    "name = input(\"What is your name ? \")      # input for the user's name\n",
    "age = input(\"What is your age ? \")          # input for the user's age\n",
    "    \n",
    "print(f\"Hello {name}, you are {age} years old.\")     # print \n"
   ]
  },
  {
   "cell_type": "code",
   "execution_count": 15,
   "id": "3bf2c361-72fe-425b-82bb-e6dcbcdebf2c",
   "metadata": {},
   "outputs": [
    {
     "name": "stdin",
     "output_type": "stream",
     "text": [
      "Enter a sentence:  hello I am pranav \n",
      "Enter a word to search for:  am\n"
     ]
    },
    {
     "name": "stdout",
     "output_type": "stream",
     "text": [
      "The word 'am' exists in the sentence at position 8.\n"
     ]
    }
   ],
   "source": [
    "\n",
    "\n",
    "\n",
    "# exercise 6\n",
    "# substracting search\n",
    "\n",
    "\n",
    " # Function to search for a word in a sentence\n",
    "def search_word_in_sentence():\n",
    "    # Ask for a sentence input from the user\n",
    "    sentence = input(\"Enter a sentence: \")\n",
    "    \n",
    "    # Ask for a word to search in the sentence\n",
    "    word = input(\"Enter a word to search for: \")\n",
    "    \n",
    "    # Check if the word exists in the sentence\n",
    "    if word in sentence:\n",
    "        # Find the position of the word\n",
    "        position = sentence.index(word)\n",
    "        print(f\"The word '{word}' exists in the sentence at position {position}.\")\n",
    "    else:\n",
    "        print(f\"The word '{word}' does not exist in the sentence.\")\n",
    "\n",
    "# Run the function\n",
    "search_word_in_sentence()\n"
   ]
  },
  {
   "cell_type": "code",
   "execution_count": 27,
   "id": "f6bb452a-6f1f-4482-b250-b54fd184968e",
   "metadata": {},
   "outputs": [
    {
     "name": "stdin",
     "output_type": "stream",
     "text": [
      "Enter number of elements in list:  4\n",
      "Enter elements:  23\n",
      "Enter elements:  45\n",
      "Enter elements:  65\n",
      "Enter elements:  21\n"
     ]
    },
    {
     "name": "stdout",
     "output_type": "stream",
     "text": [
      "Sum of all numbers in the list is: 154\n",
      "Largest element is: 65\n",
      "Smallest element is: 21\n"
     ]
    }
   ],
   "source": [
    "\n",
    "# part 3\n",
    "# exercise 7\n",
    "#list operations\n",
    "\n",
    "\n",
    "# Creating an empty list\n",
    "list1 = []\n",
    "\n",
    "# asking number of elements to put in list\n",
    "num = int(input(\"Enter number of elements in list: \"))\n",
    "\n",
    "# Iterating till num to append elements in list\n",
    "for i in range(1, num + 1):\n",
    "    ele = int(input(\"Enter elements: \"))\n",
    "    list1.append(ele)\n",
    "\n",
    "# Printing maximum and minimum element\n",
    "print(\"Sum of all numbers in the list is:\",sum(list1))\n",
    "print(\"Largest element is:\", max(list1))\n",
    "print(\"Smallest element is:\", min(list1))"
   ]
  },
  {
   "cell_type": "code",
   "execution_count": 47,
   "id": "1ff43818-323a-459f-9ab0-732f226a42cd",
   "metadata": {},
   "outputs": [
    {
     "name": "stdout",
     "output_type": "stream",
     "text": [
      "['apple', 'mango', 'lemon', 'orange', 'pineapple']\n"
     ]
    }
   ],
   "source": [
    "\n",
    "\n",
    "# exercise 8\n",
    "# list manipulation\n",
    "\n",
    "\n",
    "\n",
    "f=['apple','banana','mango','lemon','orange']\n",
    "\n",
    "f.insert(5,'pineapple')\n",
    "f.remove('banana')\n",
    "print(f)\n"
   ]
  },
  {
   "cell_type": "code",
   "execution_count": 9,
   "id": "bc9652a1-171c-41ee-9420-f4c791cfd892",
   "metadata": {
    "scrolled": true
   },
   "outputs": [
    {
     "name": "stdin",
     "output_type": "stream",
     "text": [
      "Enter number 1:  7\n",
      "Enter number 2:  3\n",
      "Enter number 3:  9\n",
      "Enter number 4:  6\n",
      "Enter number 5:  2\n"
     ]
    },
    {
     "name": "stdout",
     "output_type": "stream",
     "text": [
      "List in ascending order: [2, 3, 6, 7, 9]\n",
      "List in descending order: [9, 7, 6, 3, 2]\n"
     ]
    }
   ],
   "source": [
    "\n",
    "\n",
    "# exercise 9\n",
    "# sorting a list\n",
    "\n",
    "\n",
    "\n",
    "numbers = []\n",
    "for i in range(5):\n",
    "    num = int(input(f\"Enter number {i+1}: \"))\n",
    "    numbers.append(num)\n",
    "\n",
    "\n",
    "ascending = sorted(numbers)\n",
    "print(\"List in ascending order:\", ascending)\n",
    "\n",
    "\n",
    "descending = sorted(numbers, reverse=True)\n",
    "print(\"List in descending order:\", descending)"
   ]
  },
  {
   "cell_type": "code",
   "execution_count": 55,
   "id": "a508514e-e322-4d74-a2c7-346c6c6a6403",
   "metadata": {},
   "outputs": [
    {
     "name": "stdout",
     "output_type": "stream",
     "text": [
      "First 5 elements: [1, 2, 3, 4, 5]\n",
      "Last 5 elements: [6, 7, 8, 9, 10]\n",
      "Elements from index 2 to index 7: [3, 4, 5, 6, 7, 8]\n"
     ]
    }
   ],
   "source": [
    "\n",
    "\n",
    "# exercise 10\n",
    "# list slicing\n",
    "\n",
    "\n",
    "# Given list of numbers\n",
    "numbers = [1, 2, 3, 4, 5, 6, 7, 8, 9, 10]\n",
    "\n",
    "# 1. Print the first 5 elements\n",
    "a= numbers[:5]\n",
    "print(\"First 5 elements:\",a)\n",
    "\n",
    "# 2. Print the last 5 elements\n",
    "b= numbers[-5:]\n",
    "print(\"Last 5 elements:\",b)\n",
    "\n",
    "# 3. Print the elements from index 2 to index 7\n",
    "c= numbers[2:8]  # Index 8 is exclusive\n",
    "print(\"Elements from index 2 to index 7:\",c)\n"
   ]
  },
  {
   "cell_type": "code",
   "execution_count": 57,
   "id": "dd667be7-1605-47d8-98a8-d4e95ef68eb1",
   "metadata": {},
   "outputs": [
    {
     "name": "stdin",
     "output_type": "stream",
     "text": [
      "Enter the name of student 1:  pranav\n",
      "Enter score for subject 1:  80\n",
      "Enter score for subject 2:  90\n",
      "Enter score for subject 3:  90\n",
      "Enter the name of student 2:  sushil\n",
      "Enter score for subject 1:  76\n",
      "Enter score for subject 2:  75\n",
      "Enter score for subject 3:  54\n",
      "Enter the name of student 3:  raghav\n",
      "Enter score for subject 1:  3\n",
      "Enter score for subject 2:  4\n",
      "Enter score for subject 3:  77\n"
     ]
    },
    {
     "name": "stdout",
     "output_type": "stream",
     "text": [
      "\n",
      "Student Averages:\n",
      "pranav: Average Score = 86.67\n",
      "sushil: Average Score = 68.33\n",
      "raghav: Average Score = 28.00\n"
     ]
    }
   ],
   "source": [
    "\n",
    "\n",
    "\n",
    "# exercise 11 - (Bonus challenge)\n",
    "# nested list\n",
    "\n",
    "\n",
    "# Function to get student scores and calculate averages\n",
    "def student_scores():\n",
    "    # Create a nested list to store student data\n",
    "    students = []\n",
    "\n",
    "    # Input for 3 students\n",
    "    for i in range(3):\n",
    "        name = input(f\"Enter the name of student {i + 1}: \")\n",
    "        scores = []\n",
    "        for j in range(3):\n",
    "            score = float(input(f\"Enter score for subject {j + 1}: \"))\n",
    "            scores.append(score)\n",
    "        # Append name and scores as a list to the students list\n",
    "        students.append([name, scores])\n",
    "\n",
    "    # Print each student's name and their average score\n",
    "    print(\"\\nStudent Averages:\")\n",
    "    for student in students:\n",
    "        name = student[0]\n",
    "        scores = student[1]\n",
    "        average_score = sum(scores) / len(scores)\n",
    "        print(f\"{name}: Average Score = {average_score:.2f}\")\n",
    "\n",
    "# Run the function\n",
    "student_scores()\n"
   ]
  },
  {
   "cell_type": "code",
   "execution_count": 7,
   "id": "4e3f01e4-8974-433e-b378-9ff5a652093d",
   "metadata": {},
   "outputs": [
    {
     "name": "stdin",
     "output_type": "stream",
     "text": [
      "Enter number 1:  2\n",
      "Enter number 2:  7\n",
      "Enter number 3:  2\n",
      "Enter number 4:  8\n",
      "Enter number 5:  3\n"
     ]
    },
    {
     "name": "stdout",
     "output_type": "stream",
     "text": [
      "List in ascending order: [2, 2, 3, 7, 8]\n",
      "List in descending order: [8, 7, 3, 2, 2]\n"
     ]
    }
   ],
   "source": [
    "\n",
    "\n",
    "numbers = []\n",
    "for i in range(5):\n",
    "    num = int(input(f\"Enter number {i+1}: \"))\n",
    "    numbers.append(num)\n",
    "\n",
    "\n",
    "ascending = sorted(numbers)\n",
    "print(\"List in ascending order:\", ascending)\n",
    "\n",
    "\n",
    "descending = sorted(numbers, reverse=True)\n",
    "print(\"List in descending order:\", descending)"
   ]
  },
  {
   "cell_type": "code",
   "execution_count": null,
   "id": "0a75af5b-96ce-49c6-bd5e-064f6126813a",
   "metadata": {},
   "outputs": [],
   "source": []
  }
 ],
 "metadata": {
  "kernelspec": {
   "display_name": "Python 3 (ipykernel)",
   "language": "python",
   "name": "python3"
  },
  "language_info": {
   "codemirror_mode": {
    "name": "ipython",
    "version": 3
   },
   "file_extension": ".py",
   "mimetype": "text/x-python",
   "name": "python",
   "nbconvert_exporter": "python",
   "pygments_lexer": "ipython3",
   "version": "3.12.4"
  }
 },
 "nbformat": 4,
 "nbformat_minor": 5
}
